{
 "cells": [
  {
   "cell_type": "code",
   "execution_count": 4,
   "id": "concrete-laptop",
   "metadata": {},
   "outputs": [],
   "source": [
    "import pandas as pd\n",
    "import numpy as np\n",
    "from sklearn.model_selection import train_test_split\n",
    "from sklearn import model_selection\n",
    "from sklearn.ensemble import RandomForestClassifier\n",
    "from sklearn.metrics import accuracy_score\n",
    "from sklearn import svm\n",
    "from sklearn.preprocessing import MinMaxScaler\n",
    "import matplotlib.pyplot as plt\n",
    "from sklearn.neighbors import KNeighborsClassifier\n",
    "from sklearn.naive_bayes import GaussianNB\n",
    "import seaborn as sns\n",
    "from sklearn.preprocessing import StandardScaler\n",
    "from sklearn.decomposition import PCA\n",
    "from sklearn.ensemble import BaggingClassifier\n"
   ]
  },
  {
   "cell_type": "code",
   "execution_count": 5,
   "id": "informed-blood",
   "metadata": {},
   "outputs": [],
   "source": [
    "# features = pd.read_csv('params_trial.csv')\n",
    "features = pd.read_csv('params_trial.csv', usecols=['deviceState','usedMemory','bufferCache', 'availableMemory', 'Memory Utilization_kbcommit'])\n",
    "# cols = ['deviceState', 'usedMemory', 'bufferCache', 'availableMemory']\n",
    "# cols = ['deviceState','usedMemory','bufferCache', 'availableMemory', 'IOStats_wtps']\n",
    "# features = pd.read_csv('params_trial.csv', usecols=cols)\n",
    "\n",
    "features = features.dropna()\n",
    "labels = np.array(features['deviceState'])\n",
    "features= features.drop('deviceState', axis = 1)\n",
    "# features= features.drop('CPU Utilization_CPU', axis = 1)\n",
    "# features= features.drop('Disk Device Status_DEV', axis = 1)\n",
    "# features= features.drop('', axis = 1)\n",
    "# features= features.drop('', axis = 1)\n",
    "\n",
    "# nunique = features.nunique()\n",
    "# cols_to_drop = nunique[nunique == 1].index\n",
    "# features.drop(cols_to_drop, axis=1)\n",
    "# features = features.drop(features.std()[(features.std() == 0)].index, axis=1)\n",
    "\n",
    "# print(features.head())\n",
    "# feature_list = list(features.columns)\n",
    "# features = np.array(features)\n",
    "\n",
    "# scaler = MinMaxScaler(feature_range = (0,1))\n",
    "# scaler = scaler.fit(features)\n",
    "# scaled_features = scaler.fit_transform(features)\n",
    "scaled_features = StandardScaler().fit_transform(features)\n",
    "\n",
    "# pca = PCA(n_components=15)\n",
    "# principalComponents = pca.fit_transform(features)\n",
    "# scaled_features = pd.DataFrame(data = principalComponents)\n",
    "# scaled_features = StandardScaler().fit_transform(features)\n",
    "# print(scaled_features.head())"
   ]
  },
  {
   "cell_type": "code",
   "execution_count": 6,
   "id": "852052e9",
   "metadata": {},
   "outputs": [],
   "source": [
    "# def correlation_heatmap(features):\n",
    "#     correlations = features.corr()\n",
    "\n",
    "#     fig, ax = plt.subplots(figsize=(50,50))\n",
    "#     sns.heatmap(correlations, vmax=1.0, center=0, fmt='.2f',\n",
    "#                 square=True, linewidths=.5, annot=True, cbar_kws={\"shrink\": .70})\n",
    "#     plt.show();\n",
    "    \n",
    "# correlation_heatmap(features)"
   ]
  },
  {
   "cell_type": "code",
   "execution_count": 7,
   "id": "checked-implement",
   "metadata": {},
   "outputs": [
    {
     "name": "stdout",
     "output_type": "stream",
     "text": [
      "Accuracy with RF:\t 0.6057494866529775\n"
     ]
    },
    {
     "ename": "NameError",
     "evalue": "name 'DecisionTreeClassifier' is not defined",
     "output_type": "error",
     "traceback": [
      "\u001b[0;31m---------------------------------------------------------------------------\u001b[0m",
      "\u001b[0;31mNameError\u001b[0m                                 Traceback (most recent call last)",
      "\u001b[0;32m/tmp/ipykernel_2357008/1178618235.py\u001b[0m in \u001b[0;36m<module>\u001b[0;34m\u001b[0m\n\u001b[1;32m     34\u001b[0m \u001b[0mseed\u001b[0m \u001b[0;34m=\u001b[0m \u001b[0;36m7\u001b[0m\u001b[0;34m\u001b[0m\u001b[0;34m\u001b[0m\u001b[0m\n\u001b[1;32m     35\u001b[0m \u001b[0mkFold\u001b[0m \u001b[0;34m=\u001b[0m \u001b[0mmodel_selection\u001b[0m\u001b[0;34m.\u001b[0m\u001b[0mKFold\u001b[0m\u001b[0;34m(\u001b[0m\u001b[0mn_splits\u001b[0m\u001b[0;34m=\u001b[0m\u001b[0;36m10\u001b[0m\u001b[0;34m,\u001b[0m \u001b[0mrandom_state\u001b[0m\u001b[0;34m=\u001b[0m\u001b[0mseed\u001b[0m\u001b[0;34m,\u001b[0m \u001b[0mshuffle\u001b[0m\u001b[0;34m=\u001b[0m\u001b[0;32mTrue\u001b[0m\u001b[0;34m)\u001b[0m\u001b[0;34m\u001b[0m\u001b[0;34m\u001b[0m\u001b[0m\n\u001b[0;32m---> 36\u001b[0;31m \u001b[0mcart\u001b[0m \u001b[0;34m=\u001b[0m \u001b[0mDecisionTreeClassifier\u001b[0m\u001b[0;34m(\u001b[0m\u001b[0;34m)\u001b[0m\u001b[0;34m\u001b[0m\u001b[0;34m\u001b[0m\u001b[0m\n\u001b[0m\u001b[1;32m     37\u001b[0m \u001b[0mnumTrees\u001b[0m \u001b[0;34m=\u001b[0m \u001b[0;36m100\u001b[0m\u001b[0;34m\u001b[0m\u001b[0;34m\u001b[0m\u001b[0m\n\u001b[1;32m     38\u001b[0m \u001b[0;34m\u001b[0m\u001b[0m\n",
      "\u001b[0;31mNameError\u001b[0m: name 'DecisionTreeClassifier' is not defined"
     ]
    }
   ],
   "source": [
    "train_features, test_features, train_labels, test_labels = train_test_split(scaled_features, labels, test_size = 0.25, random_state = 42)\n",
    "\n",
    "# train_features, test_features, train_labels, test_labels = train_test_split(features, labels, test_size = 0.25, random_state = 42)\n",
    "# print('Training Features Shape:', train_features.shape)\n",
    "# print('Training Labels Shape:', train_labels.shape)\n",
    "# print('Testing Features Shape:', test_features.shape)\n",
    "# print('Testing Labels Shape:', test_labels.shape)\n",
    "\n",
    "rf = RandomForestClassifier(n_estimators=1000)\n",
    "rf.fit(train_features, train_labels)\n",
    "print('Accuracy with RF:\\t', accuracy_score(test_labels, rf.predict(test_features)))\n",
    "\n",
    "# #Decision Tree Classifier\n",
    "# from sklearn.tree import DecisionTreeClassifier\n",
    "# clf_gini = DecisionTreeClassifier(criterion = \"gini\", random_state = 100,max_depth=3, min_samples_leaf=5)\n",
    "\n",
    "# # Performing training\n",
    "# clf_gini.fit(train_features, train_labels)\n",
    "# print('Accuracy with DT:\\t', accuracy_score(test_labels, clf_gini.predict(test_features)))\n",
    "\n",
    "# knn = KNeighborsClassifier(n_neighbors=8)\n",
    "# knn.fit(train_features, train_labels)\n",
    "# # Calculate the accuracy of the model\n",
    "# print('Accuracy with KNN:\\t', knn.score(test_features, test_labels))\n",
    "\n",
    "# nbayes = GaussianNB()\n",
    "# nbayes.fit(train_features, train_labels)\n",
    "# print('Accuracy with NB:\\t', accuracy_score(test_labels, nbayes.predict(test_features)))\n",
    "\n",
    "# model = svm.SVC(kernel='poly', degree=3)\n",
    "# model.fit(train_features, train_labels)\n",
    "# print('Accuracy with SVM:\\t', accuracy_score(test_labels, model.predict(test_features)))\n",
    "\n",
    "seed = 7\n",
    "kFold = model_selection.KFold(n_splits=10, random_state=seed, shuffle=True)\n",
    "cart = DecisionTreeClassifier()\n",
    "numTrees = 100\n",
    "\n",
    "model = BaggingClassifier(base_estimator=cart, n_estimators=numTrees, random_state=seed)\n",
    "results = model_selection.cross_val_score(model, train_features, train_labels, cv=kFold)\n",
    "for i in range(len(results)):\n",
    "    print('Model: ' + str(i) + ' Accuracy is: ' + str(results[i]))\n",
    "\n",
    "print('Average Accuracy:\\t', results.mean())"
   ]
  }
 ],
 "metadata": {
  "kernelspec": {
   "display_name": "Python 3 (ipykernel)",
   "language": "python",
   "name": "python3"
  },
  "language_info": {
   "codemirror_mode": {
    "name": "ipython",
    "version": 3
   },
   "file_extension": ".py",
   "mimetype": "text/x-python",
   "name": "python",
   "nbconvert_exporter": "python",
   "pygments_lexer": "ipython3",
   "version": "3.8.10"
  }
 },
 "nbformat": 4,
 "nbformat_minor": 5
}
